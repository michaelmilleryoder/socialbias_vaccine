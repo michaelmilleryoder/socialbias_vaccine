{
 "cells": [
  {
   "cell_type": "markdown",
   "id": "98dc6da5",
   "metadata": {
    "tags": []
   },
   "source": [
    "# Prepare corpora for SAGE\n",
    "Then run it at ~/SAGE/py-sage (repo fork at https://github.com/michaelmilleryoder/SAGE/tree/master/py-sage)  \n",
    "Take a look at runSage_grid.py, which runs runSage.py over multiple parameter settings"
   ]
  },
  {
   "cell_type": "markdown",
   "id": "2811394f-8c27-429b-92c8-84da72558254",
   "metadata": {},
   "source": [
    "## Create subsections for SAGE of identities within corpora"
   ]
  },
  {
   "cell_type": "code",
   "execution_count": 1,
   "id": "2160cc62-ce3f-44c9-a464-e14399269611",
   "metadata": {
    "scrolled": true,
    "tags": []
   },
   "outputs": [
    {
     "data": {
      "text/plain": [
       "dict_keys(['0_anti-bot_sents', '0_anti-human_sents', '0_pro-bot_sents', '0_pro-human_sents'])"
      ]
     },
     "execution_count": 1,
     "metadata": {},
     "output_type": "execute_result"
    }
   ],
   "source": [
    "# Load data (tweet texts)\n",
    "import os\n",
    "\n",
    "split_type = '0_pro_anti_bot_human'\n",
    "dirpath = os.path.join('/home/huixiann/2022_socialbias_vaccine/michael/SAGE/py-sage/input/', split_type)\n",
    "processed = {}\n",
    "\n",
    "def remove_tok(tok):\n",
    "    return tok.startswith('http') or tok.startswith('#') or tok.isnumeric()\n",
    "\n",
    "for fname in sorted(os.listdir(dirpath)):\n",
    "    fpath = os.path.join(dirpath, fname)\n",
    "    with open(fpath, 'r') as f:\n",
    "        processed[fname.split('.')[0]] = [[tok for tok in doc.split() if not remove_tok(tok)] for doc in f.read().splitlines()]\n",
    "        \n",
    "processed.keys()"
   ]
  },
  {
   "cell_type": "code",
   "execution_count": 2,
   "id": "7d81affc-dac6-4a20-9cb4-e83d7c6d1e4e",
   "metadata": {},
   "outputs": [
    {
     "data": {
      "text/plain": [
       "dict_keys(['gender/sexuality', 'age', 'race/ethnicity/nationality', 'religion', 'class', 'medical'])"
      ]
     },
     "execution_count": 2,
     "metadata": {},
     "output_type": "execute_result"
    }
   ],
   "source": [
    "# Load identity terms (terms of interest)\n",
    "import json\n",
    "\n",
    "identities_fpath = '../identities.json'\n",
    "with open(identities_fpath) as f:\n",
    "    identities = json.load(f)\n",
    "identities.keys()"
   ]
  },
  {
   "cell_type": "code",
   "execution_count": 14,
   "id": "813f5584-211f-423a-8749-aa896882f8ea",
   "metadata": {
    "scrolled": true,
    "tags": []
   },
   "outputs": [
    {
     "data": {
      "application/vnd.jupyter.widget-view+json": {
       "model_id": "31b0e51b21c449dfbfa8a15d0c5b1762",
       "version_major": 2,
       "version_minor": 0
      },
      "text/plain": [
       "  0%|          | 0/6 [00:00<?, ?it/s]"
      ]
     },
     "metadata": {},
     "output_type": "display_data"
    },
    {
     "name": "stdout",
     "output_type": "stream",
     "text": [
      "woman: 14683\n",
      "women: 30963\n",
      "man: 26631\n",
      "men: 10200\n",
      "dad: 11752\n",
      "children: 40471\n",
      "young: 25769\n",
      "old: 25086\n",
      "elderly: 13614\n",
      "aged: 48255\n",
      "indian: 33929\n",
      "black: 34157\n",
      "white: 40551\n",
      "american: 73938\n",
      "americans: 52698\n",
      "african: 27791\n",
      "rich: 11951\n",
      "poor: 13573\n"
     ]
    }
   ],
   "source": [
    "# Search for identities\n",
    "from tqdm.notebook import tqdm\n",
    "\n",
    "matches = {}\n",
    "matching_terms = []\n",
    "for cat in tqdm(identities):\n",
    "    for term in identities[cat]:\n",
    "        matches[term] = {}\n",
    "        for section in processed:\n",
    "            matches[term][section] = [' '.join(tweet) for tweet in processed[section] if term in tweet]\n",
    "        total_matches = sum([len(matches[term][section]) for section in matches[term]])\n",
    "        if total_matches >= 10000:\n",
    "            print(f'{term}: {total_matches}')\n",
    "            matching_terms.append(term)"
   ]
  },
  {
   "cell_type": "code",
   "execution_count": 13,
   "id": "ae6355af-252d-4566-a424-658be183ace5",
   "metadata": {},
   "outputs": [],
   "source": [
    "# Save out\n",
    "dirpath = os.path.join('/home/huixiann/2022_socialbias_vaccine/michael/SAGE/py-sage/input/0_pro_anti_bot_human_byidentity')\n",
    "if not os.path.exists(dirpath):\n",
    "    os.mkdir(dirpath)\n",
    "\n",
    "for term in matches:\n",
    "    out_dirpath = os.path.join(dirpath, term)\n",
    "    if not os.path.exists(out_dirpath):\n",
    "        os.mkdir(out_dirpath)\n",
    "    for section in matches[term]:\n",
    "        outpath = os.path.join(out_dirpath, '{}_{}.txt'.format(section, term))\n",
    "        with open(outpath, 'w') as f:\n",
    "            for sent in matches[term][section]:\n",
    "                f.write(sent + '\\n')"
   ]
  },
  {
   "cell_type": "markdown",
   "id": "238079f9-1959-4508-b53f-57a2b2a3affd",
   "metadata": {},
   "source": [
    "## From JSON -> text file input"
   ]
  },
  {
   "cell_type": "code",
   "execution_count": 1,
   "id": "69650be6",
   "metadata": {},
   "outputs": [],
   "source": [
    "import json\n",
    "import os\n",
    "from nltk.tokenize import TweetTokenizer\n",
    "from tqdm import tqdm\n",
    "from multiprocessing import Pool"
   ]
  },
  {
   "cell_type": "code",
   "execution_count": 10,
   "id": "285225c6",
   "metadata": {},
   "outputs": [],
   "source": [
    "def process_tweet_dump(section):\n",
    "    \"\"\" Extract text and tokenize a set of tweet dumps \"\"\"\n",
    "    \n",
    "    texts = []\n",
    "#     dirpath = os.path.join('/home/huixiann/2022_socialbias_vaccine/', section)    \n",
    "    dirpath = os.path.join('/home/huixiann/2022_socialbias_vaccine/1_bycontinent', section)\n",
    "    for fname in tqdm(os.listdir(dirpath)):\n",
    "        if fname.startswith('.'):\n",
    "            continue\n",
    "        fpath = os.path.join(dirpath, fname)\n",
    "        with open(fpath) as f:\n",
    "            lines = f.read().splitlines()\n",
    "            for line in lines:\n",
    "                try:\n",
    "                    tweet = json.loads(line)\n",
    "                except ValueError:\n",
    "                    continue\n",
    "                text = ' '.join(tokenizer.tokenize(tweet['text'])).lower()\n",
    "                texts.append(text)\n",
    "\n",
    "    # Save out\n",
    "    out_dirpath = os.path.join('../input/1_bycontinent')\n",
    "    if not os.path.exists(out_dirpath):\n",
    "        os.mkdir(out_dirpath)\n",
    "    outpath = os.path.join(out_dirpath, '{}_sents.txt'.format(section))\n",
    "    with open(outpath, 'w') as f:\n",
    "        for sent in texts:\n",
    "            f.write(sent.encode('utf8') + '\\n')"
   ]
  },
  {
   "cell_type": "code",
   "execution_count": 11,
   "id": "4d4ecc92",
   "metadata": {},
   "outputs": [
    {
     "name": "stderr",
     "output_type": "stream",
     "text": [
      "100%|██████████| 56/56 [00:48<00:00,  1.15it/s]\n"
     ]
    },
    {
     "data": {
      "text/plain": [
       "[None]"
      ]
     },
     "execution_count": 11,
     "metadata": {},
     "output_type": "execute_result"
    }
   ],
   "source": [
    "# Explore json tweets Lynnette files\n",
    "tokenizer = TweetTokenizer(strip_handles=True)\n",
    "# pool = Pool(4)\n",
    "# sections = ['0_anti-bot', '0_anti-human', '0_pro-bot', '0_pro-human']\n",
    "pool = Pool(8)\n",
    "# sections = sorted(os.listdir('/home/huixiann/2022_socialbias_vaccine/1_bycontinent/'))\n",
    "sections = ['others']\n",
    "\n",
    "# list(tqdm(pool.imap(process_tweet_dump, sections), total=len(sections)))\n",
    "list(map(process_tweet_dump, sections)) # for debugging"
   ]
  },
  {
   "cell_type": "code",
   "execution_count": null,
   "id": "6cca8cd6",
   "metadata": {},
   "outputs": [],
   "source": [
    "# for section in ['0_anti-bot', '0_anti-human', '0_pro-bot', '0_pro-human']:\n",
    "#     print(section)\n",
    "#     texts = []\n",
    "#     dirpath = os.path.join('/home/huixiann/2022_socialbias_vaccine/', section)\n",
    "#     for fname in tqdm(os.listdir(dirpath)):\n",
    "#         if fname.startswith('.'):\n",
    "#             continue\n",
    "#         fpath = os.path.join(dirpath, fname)\n",
    "#         with open(fpath) as f:\n",
    "#             lines = f.read().splitlines()\n",
    "#             for line in lines:\n",
    "#                 tweet = json.loads(line)\n",
    "#                 text = ' '.join(tokenizer.tokenize(tweet['text'])).lower()\n",
    "#                 texts.append(text)\n",
    "\n",
    "#     # Save out\n",
    "#     out_dirpath = os.path.join('../input')\n",
    "#     if not os.path.exists(out_dirpath):\n",
    "#         os.mkdir(out_dirpath)\n",
    "#     outpath = os.path.join(out_dirpath, '{}_sents.txt'.format(section))\n",
    "#     with open(outpath, 'w') as f:\n",
    "#         for sent in texts:\n",
    "#             f.write(sent.encode('utf8') + '\\n')"
   ]
  }
 ],
 "metadata": {
  "kernelspec": {
   "display_name": "Python 3 (ipykernel)",
   "language": "python",
   "name": "python3"
  },
  "language_info": {
   "codemirror_mode": {
    "name": "ipython",
    "version": 3
   },
   "file_extension": ".py",
   "mimetype": "text/x-python",
   "name": "python",
   "nbconvert_exporter": "python",
   "pygments_lexer": "ipython3",
   "version": "3.10.4"
  }
 },
 "nbformat": 4,
 "nbformat_minor": 5
}
