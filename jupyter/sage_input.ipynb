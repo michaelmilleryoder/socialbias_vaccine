{
 "cells": [
  {
   "cell_type": "markdown",
   "id": "98dc6da5",
   "metadata": {},
   "source": [
    "# Prepare corpora for SAGE\n",
    "Then run it at ~/SAGE/py-sage (repo fork at https://github.com/michaelmilleryoder/SAGE/tree/master/py-sage)  \n",
    "Take a look at runSage_grid.py, which runs runSage.py over multiple parameter settings"
   ]
  },
  {
   "cell_type": "code",
   "execution_count": 1,
   "id": "69650be6",
   "metadata": {},
   "outputs": [],
   "source": [
    "import json\n",
    "import os\n",
    "from nltk.tokenize import TweetTokenizer\n",
    "from tqdm import tqdm\n",
    "from multiprocessing import Pool"
   ]
  },
  {
   "cell_type": "code",
   "execution_count": 10,
   "id": "285225c6",
   "metadata": {},
   "outputs": [],
   "source": [
    "def process_tweet_dump(section):\n",
    "    \"\"\" Extract text and tokenize a set of tweet dumps \"\"\"\n",
    "    \n",
    "    texts = []\n",
    "#     dirpath = os.path.join('/home/huixiann/2022_socialbias_vaccine/', section)    \n",
    "    dirpath = os.path.join('/home/huixiann/2022_socialbias_vaccine/1_bycontinent', section)\n",
    "    for fname in tqdm(os.listdir(dirpath)):\n",
    "        if fname.startswith('.'):\n",
    "            continue\n",
    "        fpath = os.path.join(dirpath, fname)\n",
    "        with open(fpath) as f:\n",
    "            lines = f.read().splitlines()\n",
    "            for line in lines:\n",
    "                try:\n",
    "                    tweet = json.loads(line)\n",
    "                except ValueError:\n",
    "                    continue\n",
    "                text = ' '.join(tokenizer.tokenize(tweet['text'])).lower()\n",
    "                texts.append(text)\n",
    "\n",
    "    # Save out\n",
    "    out_dirpath = os.path.join('../input/1_bycontinent')\n",
    "    if not os.path.exists(out_dirpath):\n",
    "        os.mkdir(out_dirpath)\n",
    "    outpath = os.path.join(out_dirpath, '{}_sents.txt'.format(section))\n",
    "    with open(outpath, 'w') as f:\n",
    "        for sent in texts:\n",
    "            f.write(sent.encode('utf8') + '\\n')"
   ]
  },
  {
   "cell_type": "code",
   "execution_count": 11,
   "id": "4d4ecc92",
   "metadata": {},
   "outputs": [
    {
     "name": "stderr",
     "output_type": "stream",
     "text": [
      "100%|██████████| 56/56 [00:48<00:00,  1.15it/s]\n"
     ]
    },
    {
     "data": {
      "text/plain": [
       "[None]"
      ]
     },
     "execution_count": 11,
     "metadata": {},
     "output_type": "execute_result"
    }
   ],
   "source": [
    "# Explore json tweets Lynnette files\n",
    "tokenizer = TweetTokenizer(strip_handles=True)\n",
    "# pool = Pool(4)\n",
    "# sections = ['0_anti-bot', '0_anti-human', '0_pro-bot', '0_pro-human']\n",
    "pool = Pool(8)\n",
    "# sections = sorted(os.listdir('/home/huixiann/2022_socialbias_vaccine/1_bycontinent/'))\n",
    "sections = ['others']\n",
    "\n",
    "# list(tqdm(pool.imap(process_tweet_dump, sections), total=len(sections)))\n",
    "list(map(process_tweet_dump, sections)) # for debugging"
   ]
  },
  {
   "cell_type": "code",
   "execution_count": null,
   "id": "6cca8cd6",
   "metadata": {},
   "outputs": [],
   "source": [
    "# for section in ['0_anti-bot', '0_anti-human', '0_pro-bot', '0_pro-human']:\n",
    "#     print(section)\n",
    "#     texts = []\n",
    "#     dirpath = os.path.join('/home/huixiann/2022_socialbias_vaccine/', section)\n",
    "#     for fname in tqdm(os.listdir(dirpath)):\n",
    "#         if fname.startswith('.'):\n",
    "#             continue\n",
    "#         fpath = os.path.join(dirpath, fname)\n",
    "#         with open(fpath) as f:\n",
    "#             lines = f.read().splitlines()\n",
    "#             for line in lines:\n",
    "#                 tweet = json.loads(line)\n",
    "#                 text = ' '.join(tokenizer.tokenize(tweet['text'])).lower()\n",
    "#                 texts.append(text)\n",
    "\n",
    "#     # Save out\n",
    "#     out_dirpath = os.path.join('../input')\n",
    "#     if not os.path.exists(out_dirpath):\n",
    "#         os.mkdir(out_dirpath)\n",
    "#     outpath = os.path.join(out_dirpath, '{}_sents.txt'.format(section))\n",
    "#     with open(outpath, 'w') as f:\n",
    "#         for sent in texts:\n",
    "#             f.write(sent.encode('utf8') + '\\n')"
   ]
  }
 ],
 "metadata": {
  "kernelspec": {
   "display_name": "Python 3 (ipykernel)",
   "language": "python",
   "name": "python3"
  },
  "language_info": {
   "codemirror_mode": {
    "name": "ipython",
    "version": 3
   },
   "file_extension": ".py",
   "mimetype": "text/x-python",
   "name": "python",
   "nbconvert_exporter": "python",
   "pygments_lexer": "ipython3",
   "version": "3.10.4"
  }
 },
 "nbformat": 4,
 "nbformat_minor": 5
}
